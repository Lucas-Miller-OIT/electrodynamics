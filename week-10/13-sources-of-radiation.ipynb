{
 "cells": [
  {
   "cell_type": "markdown",
   "metadata": {},
   "source": [
    "# Dipole Radiation\n",
    "\n",
    "Any accelerating charge produces electromagnetic radiation.  If the charges in a neutral object — like an atom or a radio antenna — are undergoing periodic motion, we can approximate the system as an **oscillating electric dipole**.  As discussed in Chapter 9 of _CER_ or [Chapter 28 of the Feynman Lectures](https://www.feynmanlectures.caltech.edu/I_28.html), the __radiation field__ at point $\\vec{r}$ in the $xz$-plane far from a dipole oscillating along the $z$-axis at the origin is\n",
    "\n",
    "$$\\vec{E}(\\vec{r}, t) = \\dfrac{1}{c^2}\n",
    "\\, \\omega^2 p_0 \\sin \\theta\n",
    "\\, \\dfrac{\\cos \\omega(t - r/c)}{r}\n",
    "\\, (\\hat{e}_x \\cos \\theta - \\hat{e}_z \\sin \\theta)$$\n",
    "\n",
    "The goal of this exercise is to tame this expression and create a movie of an oscillating electric field.\n",
    "\n",
    "First, the variables:\n",
    "\n",
    "| Symbol | Meaning |\n",
    "| --- | --- |\n",
    "| $\\omega$ | angular frequency of oscillation |\n",
    "| $p_0$ | maximum dipole moment |\n",
    "| $c$ | speed of light |\n",
    "| $r$ | distance from origin to point of interest |\n",
    "| $t$ | current time |\n",
    "| $\\theta$ | angle from $y$-axis to point of interest |\n",
    "\n",
    "The final term in parentheses is a unit vector that gives the direction of the field.\n",
    "\n",
    "### Warm Up\n",
    "\n",
    "Our goal is to watch the electromagnetic waves propagate outward from the dipole as it oscillates.  This means we need to choose the time increments and spatial grid of points appropriately.  We need to ...\n",
    "\n",
    "- Determine the duration of the simulation if we want to watch 10 complete cycles of oscillation.\n",
    "\n",
    "- Determine the size of the grid if we want to see at least 5 wavelengths in each direction.\n",
    "\n",
    "- Determine a reasonable time increment `dt` and grid spacing `dx` for simulating red light with a wavelength of $700 \\ {\\tt nm}$.\n",
    "\n",
    "We do not have the computer hardware of lifespan to simulate a 1 billion by 1 billion grid of points for 10 billion time steps!\n",
    "\n",
    "___Solution:___\n",
    "\n",
    "- The wavelength of the light is $\\lambda = 7.0 \\, 10^{-7} \\ {\\tt m}$.\n",
    "\n",
    "- The period of a wave is $T = \\dfrac{1}{f} = \\dfrac{\\lambda}{c}$.  For red light, this works out to $T \\approx 2.335 \\cdot 10^{-15} \\ {\\tt s}$.\n",
    "\n",
    "___Dimensional Analysis:___\n",
    "\n",
    "These values are very small, and the frequency and speed of light are very large. We might run into roundoff error if we are not careful.  Instead, let's choose our units so that numerical values are on the order of 1.\n",
    "\n",
    "First, note that we can rewrite the argument of the cosine function as follows:\n",
    "$$\\omega(t - R/c) = 2\\pi \\left(\\dfrac{t}{T} - \\dfrac{r}{\\lambda}\\right)$$\n",
    "If we measure time in femtoseconds and distance in micrometers, all numbers in this expression will be of order 1.\n",
    "\n",
    "Second, we can now rewrite the expression for the electric field as follows:\n",
    "$$\\vec{E}(\\vec{r}, t)\n",
    "= E_0 \\, \\dfrac{\\lambda}{r} \\, \\cos 2\\pi \\left( \\dfrac{t}{T} - \\dfrac{r}{\\lambda}\\right)\n",
    "\\, (\\hat{e}_x \\cos \\theta - \\hat{e}_z \\sin \\theta)  \\sin \\theta\n",
    "$$\n",
    "where\n",
    "$$E_0 = \\dfrac{\\omega^2 p_0}{\\lambda c^2} = 4 \\pi^2 \\dfrac{p_0}{\\lambda^3}$$\n",
    "\n",
    "Different values of $E_0$ change the overall magnitude of the electric field, but not the relative size of the components at different points.  Thus, we can set $E_0 = 1$ during the calculation, and we can restore the units if we need to compute forces at another time.\n",
    "\n",
    "This type of dimensional analysis can greatly simplify codiing and often leads to more accurate results because you do not \"forget\" a factor $10^9$ somewhere in the code.\n",
    "\n",
    "Now, let's make a movie!"
   ]
  },
  {
   "cell_type": "code",
   "execution_count": 1,
   "metadata": {},
   "outputs": [],
   "source": [
    "import numpy as np\n",
    "import matplotlib.pyplot as plt\n",
    "from os import system\n",
    "from IPython.display import HTML, clear_output"
   ]
  },
  {
   "cell_type": "markdown",
   "metadata": {},
   "source": [
    "## Linear Dipole\n",
    "\n",
    "Our first simulation will illustrate the radiation field of a dipole oscillating along the z-axis.  This is much like the field created by a single radio tower.  Before you run the following cells, make some predictions.\n",
    "\n",
    "- What do you expect the field to look like?\n",
    "- In what directions will the strength of the field be strongest? Weakest?\n",
    "\n",
    "***Write your predictions below.***"
   ]
  },
  {
   "cell_type": "markdown",
   "metadata": {},
   "source": [
    "I'm not really sure what to expect without seeing a plot first, but I'm imagining that, as the dipole direction switches, so will the direction of the field. The field should increase in strength as it approaches the location of the dipole. "
   ]
  },
  {
   "cell_type": "code",
   "execution_count": 7,
   "metadata": {},
   "outputs": [
    {
     "name": "stdout",
     "output_type": "stream",
     "text": [
      "Completed frame 65 of 65.\r"
     ]
    }
   ],
   "source": [
    "from scipy.constants import c as speed_of_light\n",
    "\n",
    "# Wavelength in m.\n",
    "lambda0 = 700e-9\n",
    "\n",
    "# Wavelength in um.\n",
    "wavelength = lambda0 * 1e6\n",
    "\n",
    "# Period in fs.\n",
    "period = 1e15 * lambda0 / speed_of_light\n",
    "\n",
    "# Define grid of points and array of times for plotting.\n",
    "t_max = period\n",
    "dt = period / 64\n",
    "t_values = np.arange(0, t_max + dt, dt)\n",
    "N = len(t_values)\n",
    "\n",
    "x_max = 3 * wavelength\n",
    "dx = wavelength / 10\n",
    "coordinates = np.arange(-x_max, x_max + dx, dx)\n",
    "\n",
    "X,Z = np.meshgrid(coordinates, coordinates)\n",
    "R = np.sqrt(X**2 + Z**2 + 1e-6)\n",
    "theta = np.arctan2(X,Z)\n",
    "\n",
    "# Define field strength and cutoff for rescaling large values.\n",
    "E0 = 2.0\n",
    "E_cut = 1.0\n",
    "R_cut = 0.5*wavelength\n",
    "\n",
    "# Remove any existing movie frames.\n",
    "system('rm -f *-linear-dipole.jpg')\n",
    "\n",
    "# It is essential that the frames be named in alphabetical order.\n",
    "# {:03d} will display integers with three digits and insert zeros if needed:\n",
    "# '000_movie.jpg', '001_movie.jpg', etc.\n",
    "file_name = \"{:03d}-linear-dipole.jpg\"\n",
    "\n",
    "\n",
    "plt.figure(figsize=(6,6), dpi=200)\n",
    "# Generate frames and save each figure as a separate .jpg file.\n",
    "for i, t in enumerate(t_values):\n",
    "    # Compute magnitude of field.\n",
    "    ## Dipole oscillating along z-axis.\n",
    "    #pz = np.cos(2*np.pi * (t/period))\n",
    "    #px = 0\n",
    "    #E =  -E0 * wavelength * np.sin(theta) * np.cos(2*np.pi * (t/period - R/wavelength)) / R\n",
    "    \n",
    "    ## Dipole oscillating along x-axis.\n",
    "    pz = 0\n",
    "    px = np.cos(2*np.pi * (t/period))    \n",
    "    E =  E0 * wavelength * np.cos(theta) * np.cos(2*np.pi * (t/period - R/wavelength)) / R\n",
    "\n",
    "    # Use this for the oscillating dipole.\n",
    "    Ex = E * np.cos(theta)\n",
    "    Ez = -E * np.sin(theta)\n",
    "\n",
    "    # Rescale large values.\n",
    "    Ex[R<R_cut] = 0\n",
    "    Ez[R<R_cut] = 0\n",
    "    E = np.sqrt(Ex**2 + Ez**2) \n",
    "    bad = E > E_cut\n",
    "    Ex[bad] = E_cut * Ex[bad] / E[bad]\n",
    "    Ez[bad] = E_cut * Ez[bad] / E[bad]\n",
    "    \n",
    "    # Make plot and save to file.\n",
    "    plt.quiver(X, Z, Ex, Ez, pivot='middle', lw=1, scale=40)\n",
    "    plt.quiver(0,0,px,pz, pivot='middle', color='red', lw=1, scale=10)\n",
    "    plt.xlabel('X [um]')\n",
    "    plt.ylabel('Z [um]')\n",
    "    plt.savefig(file_name.format(i))  # save current plot\n",
    "\n",
    "    # Clear plot for next frame.\n",
    "    plt.cla()\n",
    "    \n",
    "    print(\"Completed frame %d of %d.\\r\" % (i+1,N), end='')\n",
    "\n",
    "plt.close()"
   ]
  },
  {
   "cell_type": "code",
   "execution_count": 8,
   "metadata": {},
   "outputs": [
    {
     "name": "stdout",
     "output_type": "stream",
     "text": [
      "ffmpeg version 5.1.2 Copyright (c) 2000-2022 the FFmpeg developers\n",
      "  built with Apple clang version 14.0.0 (clang-1400.0.29.202)\n",
      "  configuration: --prefix=/opt/homebrew/Cellar/ffmpeg/5.1.2_1 --enable-shared --enable-pthreads --enable-version3 --cc=clang --host-cflags= --host-ldflags= --enable-ffplay --enable-gnutls --enable-gpl --enable-libaom --enable-libbluray --enable-libdav1d --enable-libmp3lame --enable-libopus --enable-librav1e --enable-librist --enable-librubberband --enable-libsnappy --enable-libsrt --enable-libtesseract --enable-libtheora --enable-libvidstab --enable-libvmaf --enable-libvorbis --enable-libvpx --enable-libwebp --enable-libx264 --enable-libx265 --enable-libxml2 --enable-libxvid --enable-lzma --enable-libfontconfig --enable-libfreetype --enable-frei0r --enable-libass --enable-libopencore-amrnb --enable-libopencore-amrwb --enable-libopenjpeg --enable-libspeex --enable-libsoxr --enable-libzmq --enable-libzimg --disable-libjack --disable-indev=jack --enable-videotoolbox --enable-neon\n",
      "  libavutil      57. 28.100 / 57. 28.100\n",
      "  libavcodec     59. 37.100 / 59. 37.100\n",
      "  libavformat    59. 27.100 / 59. 27.100\n",
      "  libavdevice    59.  7.100 / 59.  7.100\n",
      "  libavfilter     8. 44.100 /  8. 44.100\n",
      "  libswscale      6.  7.100 /  6.  7.100\n",
      "  libswresample   4.  7.100 /  4.  7.100\n",
      "  libpostproc    56.  6.100 / 56.  6.100\n",
      "Input #0, image2, from '%03d-linear-dipole.jpg':\n",
      "  Duration: 00:00:02.60, start: 0.000000, bitrate: N/A\n",
      "  Stream #0:0: Video: mjpeg (Baseline), yuvj420p(pc, bt470bg/unknown/unknown), 1200x1200 [SAR 200:200 DAR 1:1], 25 fps, 25 tbr, 25 tbn\n",
      "Stream mapping:\n",
      "  Stream #0:0 -> #0:0 (mjpeg (native) -> h264 (libx264))\n",
      "Press [q] to stop, [?] for help\n",
      "\u001b[1;34m[swscaler @ 0x1484c0000] \u001b[0m\u001b[1;34m[swscaler @ 0x1484d0000] \u001b[0m\u001b[0;33mdeprecated pixel format used, make sure you did set range correctly\n",
      "\u001b[0m\u001b[1;34m[swscaler @ 0x1484c0000] \u001b[0m\u001b[1;34m[swscaler @ 0x1484e0000] \u001b[0m\u001b[0;33mdeprecated pixel format used, make sure you did set range correctly\n",
      "\u001b[0m\u001b[1;34m[swscaler @ 0x1484c0000] \u001b[0m\u001b[1;34m[swscaler @ 0x148088000] \u001b[0m\u001b[0;33mdeprecated pixel format used, make sure you did set range correctly\n",
      "\u001b[0m\u001b[1;34m[swscaler @ 0x1484c0000] \u001b[0m\u001b[1;34m[swscaler @ 0x148098000] \u001b[0m\u001b[0;33mdeprecated pixel format used, make sure you did set range correctly\n",
      "\u001b[0m\u001b[1;34m[swscaler @ 0x1484c0000] \u001b[0m\u001b[1;34m[swscaler @ 0x1480a8000] \u001b[0m\u001b[0;33mdeprecated pixel format used, make sure you did set range correctly\n",
      "\u001b[0m\u001b[1;34m[swscaler @ 0x1484c0000] \u001b[0m\u001b[1;34m[swscaler @ 0x1480b8000] \u001b[0m\u001b[0;33mdeprecated pixel format used, make sure you did set range correctly\n",
      "\u001b[0m\u001b[1;34m[swscaler @ 0x1484c0000] \u001b[0m\u001b[1;34m[swscaler @ 0x1480c8000] \u001b[0m\u001b[0;33mdeprecated pixel format used, make sure you did set range correctly\n",
      "\u001b[0m\u001b[1;34m[swscaler @ 0x1484c0000] \u001b[0m\u001b[1;34m[swscaler @ 0x1480d8000] \u001b[0m\u001b[0;33mdeprecated pixel format used, make sure you did set range correctly\n",
      "\u001b[0m\u001b[1;34m[swscaler @ 0x1484c0000] \u001b[0m\u001b[1;34m[swscaler @ 0x1480e8000] \u001b[0m\u001b[0;33mdeprecated pixel format used, make sure you did set range correctly\n",
      "\u001b[0m\u001b[1;34m[swscaler @ 0x1484c0000] \u001b[0m\u001b[1;34m[swscaler @ 0x1484d0000] \u001b[0m\u001b[0;33mdeprecated pixel format used, make sure you did set range correctly\n",
      "\u001b[0m\u001b[1;34m[swscaler @ 0x1484c0000] \u001b[0m\u001b[1;34m[swscaler @ 0x1484e0000] \u001b[0m\u001b[0;33mdeprecated pixel format used, make sure you did set range correctly\n",
      "\u001b[0m\u001b[1;34m[swscaler @ 0x1484c0000] \u001b[0m\u001b[1;34m[swscaler @ 0x148088000] \u001b[0m\u001b[0;33mdeprecated pixel format used, make sure you did set range correctly\n",
      "\u001b[0m\u001b[1;34m[swscaler @ 0x1484c0000] \u001b[0m\u001b[1;34m[swscaler @ 0x148098000] \u001b[0m\u001b[0;33mdeprecated pixel format used, make sure you did set range correctly\n",
      "\u001b[0m\u001b[1;34m[swscaler @ 0x1484c0000] \u001b[0m\u001b[1;34m[swscaler @ 0x1480a8000] \u001b[0m\u001b[0;33mdeprecated pixel format used, make sure you did set range correctly\n",
      "\u001b[0m\u001b[1;34m[swscaler @ 0x1484c0000] \u001b[0m\u001b[1;34m[swscaler @ 0x1480b8000] \u001b[0m\u001b[0;33mdeprecated pixel format used, make sure you did set range correctly\n",
      "\u001b[0m\u001b[1;34m[swscaler @ 0x1484c0000] \u001b[0m\u001b[1;34m[swscaler @ 0x1480c8000] \u001b[0m\u001b[0;33mdeprecated pixel format used, make sure you did set range correctly\n",
      "\u001b[0m\u001b[1;34m[swscaler @ 0x1484c0000] \u001b[0m\u001b[1;34m[swscaler @ 0x1480d8000] \u001b[0m\u001b[0;33mdeprecated pixel format used, make sure you did set range correctly\n",
      "\u001b[0m\u001b[1;34m[swscaler @ 0x1484c0000] \u001b[0m\u001b[1;34m[swscaler @ 0x1480e8000] \u001b[0m\u001b[0;33mdeprecated pixel format used, make sure you did set range correctly\n",
      "\u001b[0m\u001b[1;34m[swscaler @ 0x1281d0000] \u001b[0m\u001b[1;34m[swscaler @ 0x1484c0000] \u001b[0m\u001b[0;33mdeprecated pixel format used, make sure you did set range correctly\n",
      "\u001b[0m\u001b[1;34m[swscaler @ 0x1281d0000] \u001b[0m\u001b[1;34m[swscaler @ 0x1484d0000] \u001b[0m\u001b[0;33mdeprecated pixel format used, make sure you did set range correctly\n",
      "\u001b[0m\u001b[1;34m[swscaler @ 0x1281d0000] \u001b[0m\u001b[1;34m[swscaler @ 0x1484e0000] \u001b[0m\u001b[0;33mdeprecated pixel format used, make sure you did set range correctly\n",
      "\u001b[0m\u001b[1;34m[swscaler @ 0x1281d0000] \u001b[0m\u001b[1;34m[swscaler @ 0x148088000] \u001b[0m\u001b[0;33mdeprecated pixel format used, make sure you did set range correctly\n",
      "\u001b[0m\u001b[1;34m[swscaler @ 0x1281d0000] \u001b[0m\u001b[1;34m[swscaler @ 0x148098000] \u001b[0m\u001b[0;33mdeprecated pixel format used, make sure you did set range correctly\n",
      "\u001b[0m\u001b[1;34m[swscaler @ 0x1281d0000] \u001b[0m\u001b[1;34m[swscaler @ 0x1480a8000] \u001b[0m\u001b[0;33mdeprecated pixel format used, make sure you did set range correctly\n",
      "\u001b[0m\u001b[1;34m[swscaler @ 0x1281d0000] \u001b[0m\u001b[1;34m[swscaler @ 0x1480b8000] \u001b[0m\u001b[0;33mdeprecated pixel format used, make sure you did set range correctly\n",
      "\u001b[0m\u001b[1;34m[swscaler @ 0x1281d0000] \u001b[0m\u001b[1;34m[swscaler @ 0x1480c8000] \u001b[0m\u001b[0;33mdeprecated pixel format used, make sure you did set range correctly\n",
      "\u001b[0m\u001b[1;34m[swscaler @ 0x1281d0000] \u001b[0m\u001b[1;34m[swscaler @ 0x1480d8000] \u001b[0m\u001b[0;33mdeprecated pixel format used, make sure you did set range correctly\n",
      "\u001b[0m\u001b[1;34m[swscaler @ 0x1281d0000] \u001b[0m\u001b[1;34m[swscaler @ 0x138208000] \u001b[0m\u001b[0;33mdeprecated pixel format used, make sure you did set range correctly\n",
      "\u001b[0m\u001b[1;34m[swscaler @ 0x1281d0000] \u001b[0m\u001b[1;34m[swscaler @ 0x138218000] \u001b[0m\u001b[0;33mdeprecated pixel format used, make sure you did set range correctly\n",
      "\u001b[0m\u001b[1;34m[swscaler @ 0x1281d0000] \u001b[0m\u001b[1;34m[swscaler @ 0x138228000] \u001b[0m\u001b[0;33mdeprecated pixel format used, make sure you did set range correctly\n",
      "\u001b[0m\u001b[1;34m[swscaler @ 0x1281d0000] \u001b[0m\u001b[1;34m[swscaler @ 0x138238000] \u001b[0m\u001b[0;33mdeprecated pixel format used, make sure you did set range correctly\n",
      "\u001b[0m\u001b[1;34m[swscaler @ 0x1281d0000] \u001b[0m\u001b[1;34m[swscaler @ 0x138248000] \u001b[0m\u001b[0;33mdeprecated pixel format used, make sure you did set range correctly\n",
      "\u001b[0m\u001b[1;34m[swscaler @ 0x1281d0000] \u001b[0m\u001b[1;34m[swscaler @ 0x138258000] \u001b[0m\u001b[0;33mdeprecated pixel format used, make sure you did set range correctly\n",
      "\u001b[0m\u001b[1;34m[swscaler @ 0x1281d0000] \u001b[0m\u001b[1;34m[swscaler @ 0x138268000] \u001b[0m\u001b[0;33mdeprecated pixel format used, make sure you did set range correctly\n",
      "\u001b[0m\u001b[1;34m[swscaler @ 0x1281d0000] \u001b[0m\u001b[1;34m[swscaler @ 0x138278000] \u001b[0m\u001b[0;33mdeprecated pixel format used, make sure you did set range correctly\n",
      "\u001b[0m\u001b[1;34m[swscaler @ 0x1281d0000] \u001b[0m\u001b[1;34m[swscaler @ 0x138288000] \u001b[0m\u001b[0;33mdeprecated pixel format used, make sure you did set range correctly\n",
      "\u001b[0m\u001b[1;36m[libx264 @ 0x134605ab0] \u001b[0musing SAR=1/1\n",
      "\u001b[1;36m[libx264 @ 0x134605ab0] \u001b[0musing cpu capabilities: ARMv8 NEON\n",
      "\u001b[1;36m[libx264 @ 0x134605ab0] \u001b[0mprofile High, level 4.0, 4:2:0, 8-bit\n",
      "\u001b[1;36m[libx264 @ 0x134605ab0] \u001b[0m264 - core 164 r3095 baee400 - H.264/MPEG-4 AVC codec - Copyleft 2003-2022 - http://www.videolan.org/x264.html - options: cabac=1 ref=3 deblock=1:0:0 analyse=0x3:0x113 me=hex subme=7 psy=1 psy_rd=1.00:0.00 mixed_ref=1 me_range=16 chroma_me=1 trellis=1 8x8dct=1 cqm=0 deadzone=21,11 fast_pskip=1 chroma_qp_offset=-2 threads=12 lookahead_threads=2 sliced_threads=0 nr=0 decimate=1 interlaced=0 bluray_compat=0 constrained_intra=0 bframes=3 b_pyramid=2 b_adapt=1 b_bias=0 direct=1 weightb=1 open_gop=0 weightp=2 keyint=250 keyint_min=25 scenecut=40 intra_refresh=0 rc_lookahead=40 rc=crf mbtree=1 crf=23.0 qcomp=0.60 qpmin=0 qpmax=69 qpstep=4 ip_ratio=1.40 aq=1:1.00\n",
      "Output #0, mp4, to 'linear-movie.mp4':\n",
      "  Metadata:\n",
      "    encoder         : Lavf59.27.100\n",
      "  Stream #0:0: Video: h264 (avc1 / 0x31637661), yuv420p(tv, bt470bg/unknown/unknown, progressive), 1200x1200 [SAR 1:1 DAR 1:1], q=2-31, 25 fps, 12800 tbn\n",
      "    Metadata:\n",
      "      encoder         : Lavc59.37.100 libx264\n",
      "    Side data:\n",
      "      cpb: bitrate max/min/avg: 0/0/0 buffer size: 0 vbv_delay: N/A\n"
     ]
    },
    {
     "name": "stdout",
     "output_type": "stream",
     "text": [
      "frame=   65 fps=0.0 q=-1.0 Lsize=    2309kB time=00:00:02.48 bitrate=7627.3kbits/s speed= 2.8x    \n",
      "video:2308kB audio:0kB subtitle:0kB other streams:0kB global headers:0kB muxing overhead: 0.061107%\n",
      "\u001b[1;36m[libx264 @ 0x134605ab0] \u001b[0mframe I:1     Avg QP:22.76  size:135717\n",
      "\u001b[1;36m[libx264 @ 0x134605ab0] \u001b[0mframe P:43    Avg QP:24.45  size: 44739\n",
      "\u001b[1;36m[libx264 @ 0x134605ab0] \u001b[0mframe B:21    Avg QP:28.72  size: 14423\n",
      "\u001b[1;36m[libx264 @ 0x134605ab0] \u001b[0mconsecutive B-frames: 56.9%  0.0%  0.0% 43.1%\n",
      "\u001b[1;36m[libx264 @ 0x134605ab0] \u001b[0mmb I  I16..4: 27.6% 19.7% 52.6%\n",
      "\u001b[1;36m[libx264 @ 0x134605ab0] \u001b[0mmb P  I16..4:  0.1%  0.1%  0.2%  P16..4: 12.2% 12.9% 17.6%  0.0%  0.0%    skip:56.9%\n",
      "\u001b[1;36m[libx264 @ 0x134605ab0] \u001b[0mmb B  I16..4:  0.1%  0.1%  0.0%  B16..8:  6.2%  4.8%  7.0%  direct: 9.5%  skip:72.5%  L0:45.1% L1:36.1% BI:18.8%\n",
      "\u001b[1;36m[libx264 @ 0x134605ab0] \u001b[0m8x8 transform intra:20.6% inter:5.1%\n",
      "\u001b[1;36m[libx264 @ 0x134605ab0] \u001b[0mcoded y,uvDC,uvAC intra: 37.9% 0.2% 0.2% inter: 18.1% 0.0% 0.0%\n",
      "\u001b[1;36m[libx264 @ 0x134605ab0] \u001b[0mi16 v,h,dc,p: 76% 15%  8%  0%\n",
      "\u001b[1;36m[libx264 @ 0x134605ab0] \u001b[0mi8 v,h,dc,ddl,ddr,vr,hd,vl,hu: 53%  4% 42%  1%  0%  0%  0%  0%  0%\n",
      "\u001b[1;36m[libx264 @ 0x134605ab0] \u001b[0mi4 v,h,dc,ddl,ddr,vr,hd,vl,hu: 43% 19% 15%  4%  5%  3%  5%  2%  5%\n",
      "\u001b[1;36m[libx264 @ 0x134605ab0] \u001b[0mi8c dc,h,v,p: 100%  0%  0%  0%\n",
      "\u001b[1;36m[libx264 @ 0x134605ab0] \u001b[0mWeighted P-Frames: Y:0.0% UV:0.0%\n",
      "\u001b[1;36m[libx264 @ 0x134605ab0] \u001b[0mref P L0: 73.5%  9.4%  9.2%  8.0%\n",
      "\u001b[1;36m[libx264 @ 0x134605ab0] \u001b[0mref B L0: 80.5%  9.8%  9.7%\n",
      "\u001b[1;36m[libx264 @ 0x134605ab0] \u001b[0mref B L1: 97.6%  2.4%\n",
      "\u001b[1;36m[libx264 @ 0x134605ab0] \u001b[0mkb/s:7268.89\n"
     ]
    }
   ],
   "source": [
    "!ffmpeg -y -i %03d-linear-dipole.jpg -pix_fmt yuv420p linear-movie.mp4"
   ]
  },
  {
   "cell_type": "code",
   "execution_count": 9,
   "metadata": {},
   "outputs": [
    {
     "data": {
      "text/html": [
       "\n",
       "    <video width=\"800\" height=\"800\" alt=\"test\" controls loop>\n",
       "        <source src=linear-movie.mp4 type=\"video/mp4\">\n",
       "    </video>\n"
      ],
      "text/plain": [
       "<IPython.core.display.HTML object>"
      ]
     },
     "execution_count": 9,
     "metadata": {},
     "output_type": "execute_result"
    }
   ],
   "source": [
    "# Play the movie within the notebook.\n",
    "HTML(\"\"\"\n",
    "    <video width=\"800\" height=\"800\" alt=\"test\" controls loop>\n",
    "        <source src=%s type=\"video/mp4\">\n",
    "    </video>\n",
    "\"\"\" % \"linear-movie.mp4\")"
   ]
  },
  {
   "cell_type": "markdown",
   "metadata": {},
   "source": [
    "### Questions\n",
    "\n",
    "Describe the field pattern.\n",
    "\n",
    "- What does the field to look like?\n",
    "- In what directions will the strength of the field be strongest? Weakest?\n",
    "\n",
    "***Report your observations below.***"
   ]
  },
  {
   "cell_type": "markdown",
   "metadata": {},
   "source": [
    "The field emulates from the dipole radially in all directions, but its strength wanes (almost completely to zero) along the axis of dipole oscillation. This makes sense, as the field will be generated perpendicular to the direction of propogation. "
   ]
  },
  {
   "cell_type": "markdown",
   "metadata": {},
   "source": [
    "Would you describe this radiation as a \"plane wave\"?  Why or why not?\n",
    "\n",
    "***Share your opinion below.***"
   ]
  },
  {
   "cell_type": "markdown",
   "metadata": {},
   "source": [
    "I think so, but I'm not confident in my answer. If we imagine the plot in 3D, a spherical wave front would be formed with uniform plane waves over defined areas. "
   ]
  },
  {
   "cell_type": "markdown",
   "metadata": {},
   "source": [
    "**Different Axis**\n",
    "\n",
    "How would you expect the pattern to change if you rotated the dipole by 90°?\n",
    "\n",
    "***Report your prediction below.***"
   ]
  },
  {
   "cell_type": "markdown",
   "metadata": {},
   "source": [
    "Rotating the dipole should rotate the entire plot by 90 degrees, without changing the behaviour of the wave. That is, the field strength should still approach zero in a direction parallel to the dipole. "
   ]
  },
  {
   "cell_type": "markdown",
   "metadata": {},
   "source": [
    "The code above contains instructions for viewing a dipole oscillating along the x-axis.\n",
    "\n",
    "Comment out the three lines below\n",
    "```\n",
    "    ## Dipole oscillating along z-axis.\n",
    "```\n",
    "Uncomment the three lines below\n",
    "```\n",
    "    ## Dipole oscillating along x-axis.\n",
    "```\n",
    "Rerun the simulation.\n",
    "\n",
    "- Describe what you see.\n",
    "- Assess your predictions.\n",
    "\n",
    "***Report your observations below.***"
   ]
  },
  {
   "cell_type": "markdown",
   "metadata": {},
   "source": [
    "This matched my prediction - the dipole was tipped on its side as were the waves eminating from the dipole. "
   ]
  },
  {
   "cell_type": "markdown",
   "metadata": {},
   "source": [
    "## Rotating Dipole\n",
    "\n",
    "Instead of a single dipole oscillating along the $y$-axis, analyze a dipole that is rotating in the $xy$-plane.  The dipole moment is\n",
    "\n",
    "$$\\vec{p}(t) = p_0 \\left(\\hat{e}_x \\cos \\omega t + \\hat{e}_z \\sin \\omega t \\right)$$\n",
    "\n",
    "This is equivalent to two _linear_ dipoles at right angles to each other, oscillating $90^\\circ$ out of phase.\n",
    "\n",
    "The code below simply adds together the fields of the two dipoles you just observed.  Before you run it, make some predictions.\n",
    "\n",
    "- What do you expect the field to look like?\n",
    "- In what directions will the strength of the field be strongest? Weakest?\n",
    "\n",
    "***Write your predictions below.***"
   ]
  },
  {
   "cell_type": "markdown",
   "metadata": {},
   "source": [
    "I predict that the field strength will still be lowest at angles parallel to the two dipoles, and it will be strongest at angles in-between the two dipoles (around 45 degrees + incrememnts 90 degrees around the circle)."
   ]
  },
  {
   "cell_type": "code",
   "execution_count": 49,
   "metadata": {},
   "outputs": [
    {
     "name": "stdout",
     "output_type": "stream",
     "text": [
      "Completed frame 65 of 65.\r"
     ]
    }
   ],
   "source": [
    "from scipy.constants import c as speed_of_light\n",
    "\n",
    "# Wavelength in m.\n",
    "lambda0 = 700e-9\n",
    "\n",
    "# Wavelength in um.\n",
    "wavelength = lambda0 * 1e6\n",
    "\n",
    "# Period in fs.\n",
    "period = 1e15 * lambda0 / speed_of_light\n",
    "\n",
    "# Define grid of points and array of times for plotting.\n",
    "t_max = period\n",
    "dt = period / 64\n",
    "t_values = np.arange(0, t_max + dt, dt)\n",
    "N = len(t_values)\n",
    "\n",
    "x_max = 3 * wavelength\n",
    "dx = wavelength / 10\n",
    "coordinates = np.arange(-x_max, x_max + dx, dx)\n",
    "\n",
    "X,Z = np.meshgrid(coordinates, coordinates)\n",
    "R = np.sqrt(X**2 + Z**2 + 1e-6)\n",
    "theta = np.arctan2(X,Z)\n",
    "\n",
    "# Define field strength and cutoff for rescaling large values.\n",
    "E0 = 2.0\n",
    "E_cut = 1.0\n",
    "R_cut = 0.5*wavelength\n",
    "\n",
    "# Remove any existing movie frames.\n",
    "system('rm -f *-rotating-dipole.jpg')\n",
    "\n",
    "# It is essential that the frames be named in alphabetical order.\n",
    "# {:03d} will display integers with three digits and insert zeros if needed:\n",
    "# '000_movie.jpg', '001_movie.jpg', etc.\n",
    "file_name = \"{:03d}-rotating-dipole.jpg\"\n",
    "\n",
    "\n",
    "plt.figure(figsize=(6,6), dpi=200)\n",
    "# Generate frames and save each figure as a separate .jpg file.\n",
    "for i, t in enumerate(t_values):\n",
    "    # Plot the dipole that is creating the fields.\n",
    "    pz = -np.cos(2*np.pi * (t/period))\n",
    "    px = 0.5*np.sin(2*np.pi * (t/period))\n",
    "\n",
    "    # Compute magnitudes of fields.\n",
    "    E1 = E0 * wavelength * np.sin(theta) * np.cos(2*np.pi * (t/period - R/wavelength)) / R\n",
    "    E2 = -0.5*E0 * wavelength * np.cos(theta) * np.sin(2*np.pi * (t/period - R/wavelength)) / R\n",
    "\n",
    "    Ex = (E1 + E2) * np.cos(theta)\n",
    "    Ez = -(E1 + E2) * np.sin(theta)\n",
    "\n",
    "    # Rescale large values.\n",
    "    Ex[R<R_cut] = 0\n",
    "    Ez[R<R_cut] = 0\n",
    "    E = np.sqrt(Ex**2 + Ez**2) \n",
    "    bad = E > E_cut\n",
    "    Ex[bad] = E_cut * Ex[bad] / E[bad]\n",
    "    Ez[bad] = E_cut * Ez[bad] / E[bad]\n",
    "\n",
    "    # Make plot and save to file.\n",
    "    plt.quiver(X, Z, Ex, Ez, pivot='middle', lw=1, scale=40)\n",
    "    plt.quiver(0,0,px,pz, pivot='middle', color='red', lw=1, scale=10)\n",
    "    plt.xlabel('X [um]')\n",
    "    plt.ylabel('Z [um]')\n",
    "    plt.savefig(file_name.format(i))  # save current plot\n",
    "\n",
    "    # Clear plot for next frame.\n",
    "    plt.cla()\n",
    "    \n",
    "    print(\"Completed frame %d of %d.\\r\" % (i+1,N), end='')\n",
    "\n",
    "plt.close()"
   ]
  },
  {
   "cell_type": "code",
   "execution_count": 50,
   "metadata": {},
   "outputs": [
    {
     "name": "stdout",
     "output_type": "stream",
     "text": [
      "ffmpeg version 5.1.2 Copyright (c) 2000-2022 the FFmpeg developers\n",
      "  built with Apple clang version 14.0.0 (clang-1400.0.29.202)\n",
      "  configuration: --prefix=/opt/homebrew/Cellar/ffmpeg/5.1.2_1 --enable-shared --enable-pthreads --enable-version3 --cc=clang --host-cflags= --host-ldflags= --enable-ffplay --enable-gnutls --enable-gpl --enable-libaom --enable-libbluray --enable-libdav1d --enable-libmp3lame --enable-libopus --enable-librav1e --enable-librist --enable-librubberband --enable-libsnappy --enable-libsrt --enable-libtesseract --enable-libtheora --enable-libvidstab --enable-libvmaf --enable-libvorbis --enable-libvpx --enable-libwebp --enable-libx264 --enable-libx265 --enable-libxml2 --enable-libxvid --enable-lzma --enable-libfontconfig --enable-libfreetype --enable-frei0r --enable-libass --enable-libopencore-amrnb --enable-libopencore-amrwb --enable-libopenjpeg --enable-libspeex --enable-libsoxr --enable-libzmq --enable-libzimg --disable-libjack --disable-indev=jack --enable-videotoolbox --enable-neon\n",
      "  libavutil      57. 28.100 / 57. 28.100\n",
      "  libavcodec     59. 37.100 / 59. 37.100\n",
      "  libavformat    59. 27.100 / 59. 27.100\n",
      "  libavdevice    59.  7.100 / 59.  7.100\n",
      "  libavfilter     8. 44.100 /  8. 44.100\n",
      "  libswscale      6.  7.100 /  6.  7.100\n",
      "  libswresample   4.  7.100 /  4.  7.100\n",
      "  libpostproc    56.  6.100 / 56.  6.100\n",
      "Input #0, image2, from '%03d-rotating-dipole.jpg':\n",
      "  Duration: 00:00:02.60, start: 0.000000, bitrate: N/A\n",
      "  Stream #0:0: Video: mjpeg (Baseline), yuvj420p(pc, bt470bg/unknown/unknown), 1200x1200 [SAR 200:200 DAR 1:1], 25 fps, 25 tbr, 25 tbn\n",
      "Stream mapping:\n",
      "  Stream #0:0 -> #0:0 (mjpeg (native) -> h264 (libx264))\n",
      "Press [q] to stop, [?] for help\n",
      "\u001b[1;34m[swscaler @ 0x130008000] \u001b[0m\u001b[1;34m[swscaler @ 0x130018000] \u001b[0m\u001b[0;33mdeprecated pixel format used, make sure you did set range correctly\n",
      "\u001b[0m\u001b[1;34m[swscaler @ 0x130008000] \u001b[0m\u001b[1;34m[swscaler @ 0x130028000] \u001b[0m\u001b[0;33mdeprecated pixel format used, make sure you did set range correctly\n",
      "\u001b[0m\u001b[1;34m[swscaler @ 0x130008000] \u001b[0m\u001b[1;34m[swscaler @ 0x130038000] \u001b[0m\u001b[0;33mdeprecated pixel format used, make sure you did set range correctly\n",
      "\u001b[0m\u001b[1;34m[swscaler @ 0x130008000] \u001b[0m\u001b[1;34m[swscaler @ 0x130048000] \u001b[0m\u001b[0;33mdeprecated pixel format used, make sure you did set range correctly\n",
      "\u001b[0m\u001b[1;34m[swscaler @ 0x130008000] \u001b[0m\u001b[1;34m[swscaler @ 0x130058000] \u001b[0m\u001b[0;33mdeprecated pixel format used, make sure you did set range correctly\n",
      "\u001b[0m\u001b[1;34m[swscaler @ 0x130008000] \u001b[0m\u001b[1;34m[swscaler @ 0x130068000] \u001b[0m\u001b[0;33mdeprecated pixel format used, make sure you did set range correctly\n",
      "\u001b[0m\u001b[1;34m[swscaler @ 0x130008000] \u001b[0m\u001b[1;34m[swscaler @ 0x130078000] \u001b[0m\u001b[0;33mdeprecated pixel format used, make sure you did set range correctly\n",
      "\u001b[0m\u001b[1;34m[swscaler @ 0x130008000] \u001b[0m\u001b[1;34m[swscaler @ 0x130088000] \u001b[0m\u001b[0;33mdeprecated pixel format used, make sure you did set range correctly\n",
      "\u001b[0m\u001b[1;34m[swscaler @ 0x130008000] \u001b[0m\u001b[1;34m[swscaler @ 0x130098000] \u001b[0m\u001b[0;33mdeprecated pixel format used, make sure you did set range correctly\n",
      "\u001b[0m\u001b[1;34m[swscaler @ 0x140858000] \u001b[0m\u001b[1;34m[swscaler @ 0x140868000] \u001b[0m\u001b[0;33mdeprecated pixel format used, make sure you did set range correctly\n",
      "\u001b[0m\u001b[1;34m[swscaler @ 0x140858000] \u001b[0m\u001b[1;34m[swscaler @ 0x140878000] \u001b[0m\u001b[0;33mdeprecated pixel format used, make sure you did set range correctly\n",
      "\u001b[0m\u001b[1;34m[swscaler @ 0x140858000] \u001b[0m\u001b[1;34m[swscaler @ 0x140888000] \u001b[0m\u001b[0;33mdeprecated pixel format used, make sure you did set range correctly\n",
      "\u001b[0m\u001b[1;34m[swscaler @ 0x140858000] \u001b[0m\u001b[1;34m[swscaler @ 0x140898000] \u001b[0m\u001b[0;33mdeprecated pixel format used, make sure you did set range correctly\n",
      "\u001b[0m\u001b[1;34m[swscaler @ 0x140858000] \u001b[0m\u001b[1;34m[swscaler @ 0x1408a8000] \u001b[0m\u001b[0;33mdeprecated pixel format used, make sure you did set range correctly\n",
      "\u001b[0m\u001b[1;34m[swscaler @ 0x140858000] \u001b[0m\u001b[1;34m[swscaler @ 0x1408b8000] \u001b[0m\u001b[0;33mdeprecated pixel format used, make sure you did set range correctly\n",
      "\u001b[0m\u001b[1;34m[swscaler @ 0x140858000] \u001b[0m\u001b[1;34m[swscaler @ 0x1408c8000] \u001b[0m\u001b[0;33mdeprecated pixel format used, make sure you did set range correctly\n",
      "\u001b[0m\u001b[1;34m[swscaler @ 0x140858000] \u001b[0m\u001b[1;34m[swscaler @ 0x1408d8000] \u001b[0m\u001b[0;33mdeprecated pixel format used, make sure you did set range correctly\n",
      "\u001b[0m\u001b[1;34m[swscaler @ 0x140858000] \u001b[0m\u001b[1;34m[swscaler @ 0x1408e8000] \u001b[0m\u001b[0;33mdeprecated pixel format used, make sure you did set range correctly\n",
      "\u001b[0m\u001b[1;34m[swscaler @ 0x120008000] \u001b[0m\u001b[1;34m[swscaler @ 0x120018000] \u001b[0m\u001b[0;33mdeprecated pixel format used, make sure you did set range correctly\n",
      "\u001b[0m\u001b[1;34m[swscaler @ 0x120008000] \u001b[0m\u001b[1;34m[swscaler @ 0x120028000] \u001b[0m\u001b[0;33mdeprecated pixel format used, make sure you did set range correctly\n",
      "\u001b[0m\u001b[1;34m[swscaler @ 0x120008000] \u001b[0m\u001b[1;34m[swscaler @ 0x120038000] \u001b[0m\u001b[0;33mdeprecated pixel format used, make sure you did set range correctly\n",
      "\u001b[0m\u001b[1;34m[swscaler @ 0x120008000] \u001b[0m\u001b[1;34m[swscaler @ 0x120048000] \u001b[0m\u001b[0;33mdeprecated pixel format used, make sure you did set range correctly\n",
      "\u001b[0m\u001b[1;34m[swscaler @ 0x120008000] \u001b[0m\u001b[1;34m[swscaler @ 0x120058000] \u001b[0m\u001b[0;33mdeprecated pixel format used, make sure you did set range correctly\n",
      "\u001b[0m\u001b[1;34m[swscaler @ 0x120008000] \u001b[0m\u001b[1;34m[swscaler @ 0x120068000] \u001b[0m\u001b[0;33mdeprecated pixel format used, make sure you did set range correctly\n",
      "\u001b[0m\u001b[1;34m[swscaler @ 0x120008000] \u001b[0m\u001b[1;34m[swscaler @ 0x120078000] \u001b[0m\u001b[0;33mdeprecated pixel format used, make sure you did set range correctly\n",
      "\u001b[0m\u001b[1;34m[swscaler @ 0x120008000] \u001b[0m\u001b[1;34m[swscaler @ 0x120088000] \u001b[0m\u001b[0;33mdeprecated pixel format used, make sure you did set range correctly\n",
      "\u001b[0m\u001b[1;34m[swscaler @ 0x120008000] \u001b[0m\u001b[1;34m[swscaler @ 0x120098000] \u001b[0m\u001b[0;33mdeprecated pixel format used, make sure you did set range correctly\n",
      "\u001b[0m\u001b[1;34m[swscaler @ 0x140858000] \u001b[0m\u001b[1;34m[swscaler @ 0x140868000] \u001b[0m\u001b[0;33mdeprecated pixel format used, make sure you did set range correctly\n",
      "\u001b[0m\u001b[1;34m[swscaler @ 0x140858000] \u001b[0m\u001b[1;34m[swscaler @ 0x140878000] \u001b[0m\u001b[0;33mdeprecated pixel format used, make sure you did set range correctly\n",
      "\u001b[0m\u001b[1;34m[swscaler @ 0x140858000] \u001b[0m\u001b[1;34m[swscaler @ 0x140888000] \u001b[0m\u001b[0;33mdeprecated pixel format used, make sure you did set range correctly\n",
      "\u001b[0m\u001b[1;34m[swscaler @ 0x140858000] \u001b[0m\u001b[1;34m[swscaler @ 0x140898000] \u001b[0m\u001b[0;33mdeprecated pixel format used, make sure you did set range correctly\n",
      "\u001b[0m\u001b[1;34m[swscaler @ 0x140858000] \u001b[0m\u001b[1;34m[swscaler @ 0x1408a8000] \u001b[0m\u001b[0;33mdeprecated pixel format used, make sure you did set range correctly\n",
      "\u001b[0m\u001b[1;34m[swscaler @ 0x140858000] \u001b[0m\u001b[1;34m[swscaler @ 0x1408b8000] \u001b[0m\u001b[0;33mdeprecated pixel format used, make sure you did set range correctly\n",
      "\u001b[0m\u001b[1;34m[swscaler @ 0x140858000] \u001b[0m\u001b[1;34m[swscaler @ 0x1408c8000] \u001b[0m\u001b[0;33mdeprecated pixel format used, make sure you did set range correctly\n",
      "\u001b[0m\u001b[1;34m[swscaler @ 0x140858000] \u001b[0m\u001b[1;34m[swscaler @ 0x1408d8000] \u001b[0m\u001b[0;33mdeprecated pixel format used, make sure you did set range correctly\n",
      "\u001b[0m\u001b[1;34m[swscaler @ 0x140858000] \u001b[0m\u001b[1;34m[swscaler @ 0x1408e8000] \u001b[0m\u001b[0;33mdeprecated pixel format used, make sure you did set range correctly\n",
      "\u001b[0m\u001b[1;36m[libx264 @ 0x14f6077d0] \u001b[0musing SAR=1/1\n",
      "\u001b[1;36m[libx264 @ 0x14f6077d0] \u001b[0musing cpu capabilities: ARMv8 NEON\n",
      "\u001b[1;36m[libx264 @ 0x14f6077d0] \u001b[0mprofile High, level 4.0, 4:2:0, 8-bit\n",
      "\u001b[1;36m[libx264 @ 0x14f6077d0] \u001b[0m264 - core 164 r3095 baee400 - H.264/MPEG-4 AVC codec - Copyleft 2003-2022 - http://www.videolan.org/x264.html - options: cabac=1 ref=3 deblock=1:0:0 analyse=0x3:0x113 me=hex subme=7 psy=1 psy_rd=1.00:0.00 mixed_ref=1 me_range=16 chroma_me=1 trellis=1 8x8dct=1 cqm=0 deadzone=21,11 fast_pskip=1 chroma_qp_offset=-2 threads=12 lookahead_threads=2 sliced_threads=0 nr=0 decimate=1 interlaced=0 bluray_compat=0 constrained_intra=0 bframes=3 b_pyramid=2 b_adapt=1 b_bias=0 direct=1 weightb=1 open_gop=0 weightp=2 keyint=250 keyint_min=25 scenecut=40 intra_refresh=0 rc_lookahead=40 rc=crf mbtree=1 crf=23.0 qcomp=0.60 qpmin=0 qpmax=69 qpstep=4 ip_ratio=1.40 aq=1:1.00\n",
      "Output #0, mp4, to 'rotating-movie.mp4':\n",
      "  Metadata:\n",
      "    encoder         : Lavf59.27.100\n",
      "  Stream #0:0: Video: h264 (avc1 / 0x31637661), yuv420p(tv, bt470bg/unknown/unknown, progressive), 1200x1200 [SAR 1:1 DAR 1:1], q=2-31, 25 fps, 12800 tbn\n",
      "    Metadata:\n",
      "      encoder         : Lavc59.37.100 libx264\n",
      "    Side data:\n",
      "      cpb: bitrate max/min/avg: 0/0/0 buffer size: 0 vbv_delay: N/A\n"
     ]
    },
    {
     "name": "stdout",
     "output_type": "stream",
     "text": [
      "frame=   65 fps=0.0 q=-1.0 Lsize=    2467kB time=00:00:02.48 bitrate=8149.4kbits/s speed= 2.6x    \n",
      "video:2466kB audio:0kB subtitle:0kB other streams:0kB global headers:0kB muxing overhead: 0.060201%\n",
      "\u001b[1;36m[libx264 @ 0x14f6077d0] \u001b[0mframe I:1     Avg QP:23.01  size:153926\n",
      "\u001b[1;36m[libx264 @ 0x14f6077d0] \u001b[0mframe P:37    Avg QP:25.37  size: 51163\n",
      "\u001b[1;36m[libx264 @ 0x14f6077d0] \u001b[0mframe B:27    Avg QP:29.10  size: 17676\n",
      "\u001b[1;36m[libx264 @ 0x14f6077d0] \u001b[0mconsecutive B-frames: 44.6%  0.0%  0.0% 55.4%\n",
      "\u001b[1;36m[libx264 @ 0x14f6077d0] \u001b[0mmb I  I16..4: 26.3% 20.6% 53.1%\n",
      "\u001b[1;36m[libx264 @ 0x14f6077d0] \u001b[0mmb P  I16..4:  0.1%  0.1%  0.2%  P16..4: 11.6% 14.9% 20.8%  0.0%  0.0%    skip:52.3%\n",
      "\u001b[1;36m[libx264 @ 0x14f6077d0] \u001b[0mmb B  I16..4:  0.0%  0.0%  0.0%  B16..8:  6.0%  5.8%  8.6%  direct:11.0%  skip:68.4%  L0:45.8% L1:33.9% BI:20.3%\n",
      "\u001b[1;36m[libx264 @ 0x14f6077d0] \u001b[0m8x8 transform intra:21.1% inter:5.2%\n",
      "\u001b[1;36m[libx264 @ 0x14f6077d0] \u001b[0mcoded y,uvDC,uvAC intra: 41.0% 0.7% 0.7% inter: 19.4% 0.1% 0.1%\n",
      "\u001b[1;36m[libx264 @ 0x14f6077d0] \u001b[0mi16 v,h,dc,p: 80% 14%  7%  0%\n",
      "\u001b[1;36m[libx264 @ 0x14f6077d0] \u001b[0mi8 v,h,dc,ddl,ddr,vr,hd,vl,hu: 56%  3% 40%  1%  0%  0%  0%  0%  0%\n",
      "\u001b[1;36m[libx264 @ 0x14f6077d0] \u001b[0mi4 v,h,dc,ddl,ddr,vr,hd,vl,hu: 43% 14% 14%  5%  5%  5%  4%  5%  4%\n",
      "\u001b[1;36m[libx264 @ 0x14f6077d0] \u001b[0mi8c dc,h,v,p: 99%  0%  0%  0%\n",
      "\u001b[1;36m[libx264 @ 0x14f6077d0] \u001b[0mWeighted P-Frames: Y:0.0% UV:0.0%\n",
      "\u001b[1;36m[libx264 @ 0x14f6077d0] \u001b[0mref P L0: 63.8%  9.2% 13.0% 14.0%\n",
      "\u001b[1;36m[libx264 @ 0x14f6077d0] \u001b[0mref B L0: 78.9%  9.2% 11.8%\n",
      "\u001b[1;36m[libx264 @ 0x14f6077d0] \u001b[0mref B L1: 98.3%  1.7%\n",
      "\u001b[1;36m[libx264 @ 0x14f6077d0] \u001b[0mkb/s:7766.74\n"
     ]
    }
   ],
   "source": [
    "!ffmpeg -y -i %03d-rotating-dipole.jpg -pix_fmt yuv420p rotating-movie.mp4"
   ]
  },
  {
   "cell_type": "code",
   "execution_count": 51,
   "metadata": {},
   "outputs": [
    {
     "data": {
      "text/html": [
       "\n",
       "    <video width=\"800\" height=\"800\" alt=\"test\" controls loop>\n",
       "        <source src=rotating-movie.mp4 type=\"video/mp4\">\n",
       "    </video>\n"
      ],
      "text/plain": [
       "<IPython.core.display.HTML object>"
      ]
     },
     "execution_count": 51,
     "metadata": {},
     "output_type": "execute_result"
    }
   ],
   "source": [
    "# Play the movie within the notebook.\n",
    "HTML(\"\"\"\n",
    "    <video width=\"800\" height=\"800\" alt=\"test\" controls loop>\n",
    "        <source src=%s type=\"video/mp4\">\n",
    "    </video>\n",
    "\"\"\" % \"rotating-movie.mp4\")"
   ]
  },
  {
   "cell_type": "markdown",
   "metadata": {},
   "source": [
    "### Questions\n",
    "\n",
    "Describe the field pattern.\n",
    "\n",
    "- What does the field to look like?\n",
    "- In what directions will the strength of the field be strongest? Weakest?\n",
    "\n",
    "***Report your observations below.***"
   ]
  },
  {
   "cell_type": "markdown",
   "metadata": {},
   "source": [
    "The field waves eminate around the dipole in all directions. There is no apparent difference in strength at certain angles. Instead, a swirling pattern is generated, and the strength of the field wanes as distance from the dipole increases. "
   ]
  },
  {
   "cell_type": "markdown",
   "metadata": {},
   "source": [
    "Would you describe this radiation as a \"plane wave\"?  Why or why not?\n",
    "\n",
    "***Share your opinion below.***"
   ]
  },
  {
   "cell_type": "markdown",
   "metadata": {},
   "source": [
    "In this case, no, since the waves do not form neat, circular shapes but spiral around the dipole. Thus, if we imagine a 3D spherical shape of constant radius, the strength of the field may be different when taken at different sections of surface area."
   ]
  },
  {
   "cell_type": "markdown",
   "metadata": {},
   "source": [
    "Modify the code above to make the dipole rotate in the opposite direction ***and*** produce the correct radiation pattern.\n",
    "\n",
    "**Hint:** It only requires two minus signs ...\n",
    "\n",
    "- Describe your attempts and your results.\n",
    "- Why are only two minus signs required?\n",
    "\n",
    "***Report your observations below.***"
   ]
  },
  {
   "cell_type": "markdown",
   "metadata": {},
   "source": [
    "By reversing the sign of the px variable for the dipole, I was able to reverse the direction of rotation. However, this did not result in a \"correct\" radiation pattern. I will watch the recording from Tuesday's class to learn more about how other students were able to get the correct pattern."
   ]
  },
  {
   "cell_type": "markdown",
   "metadata": {},
   "source": [
    "What would happen if the dipole along the x-axis were **half as large** as the dipole along the z-axis?\n",
    "\n",
    "- How do you think this would change the field pattern?  Why?\n",
    "\n",
    "***Report your predictions below.***"
   ]
  },
  {
   "cell_type": "markdown",
   "metadata": {},
   "source": [
    "I'm not sure if this would drastically change the field pattern but it should change the field strength since we're reducing the magnitude of one of its components by half. I still expect to see the same swirling pattern as before. "
   ]
  },
  {
   "cell_type": "markdown",
   "metadata": {},
   "source": [
    "Modify the code above so that the dipole along the  x-axis is **half as large** as that along the z-axis.  You will need to modify `px` and `E2`.\n",
    "\n",
    "- How does this change the field pattern?\n",
    "\n",
    "***Report your observations below.***"
   ]
  },
  {
   "cell_type": "markdown",
   "metadata": {},
   "source": [
    "I was correct, but the fields also seem to wane more quickly under these conditions. This makes sense, as the initial magnitude should be lower. "
   ]
  },
  {
   "cell_type": "markdown",
   "metadata": {},
   "source": [
    "# Reflection and Summary\n",
    "\n",
    "- What are the major takeaways of this assignment for you?\n",
    "- What was the most difficult part of this assignment?\n",
    "- What was the most interesting part of this assignment?\n",
    "- What questions do you have?\n",
    "\n",
    "***Include your response below.***"
   ]
  },
  {
   "cell_type": "markdown",
   "metadata": {},
   "source": [
    "I really enjoyed the explanation at the beginning of the assignment that clarified how we can break down a seemingly complex system into much simpler components. For example, modeling an oscillating dipole instead of an accelerating charge and breaking down the timescale to numerical values are on the order of one. As a novice coder, this type of analysis seems incredibly useful to speed up processing and computation. \n",
    "\n",
    "The most difficult part was obtaining the correct field pattern for the rotating dipole system. I will review the lecture recording from Tuesday to see how that was accomplished. Otherwise, I found the shape of those plots to be the most intriguing. The spiral shape makes much more sense after plotting the system and thinking more deeply about its inputs. \n",
    "\n",
    "My main question deals with getting the correct pattern response for the rotating dipole system. "
   ]
  },
  {
   "cell_type": "markdown",
   "metadata": {},
   "source": [
    "# Challenge Problems\n",
    "\n",
    "The challenge problems below ask you to extend the simulation above.  \n",
    "\n",
    "## Near Fields\n",
    "\n",
    "The simulations above only include the radiation field — the portion of the field that decreases as $1/r$.  Far from the source, this is the only part that matters.  Near the source, the other contributions to the electric field are the most important.\n",
    "\n",
    "Refer to Equation (9.39) in _CER_.  Try to plot the full electric field for the dipole\n",
    "\n",
    "$$\\vec{p} = p_0 \\, \\hat{e}_z \\, \\cos \\omega t$$\n",
    "\n",
    "\n",
    "## Multiple Sources\n",
    "\n",
    "In the code above, all of the dipoles are at the origin.  Adapt the code above to simulate the field of two dipoles at different locations.\n",
    "\n",
    "\n",
    "## 3D Plots\n",
    "\n",
    "Adapt the code to plot the field of a linear dipole or a rotating dipole in three dimensions.\n",
    "\n",
    "\n",
    "## Plot Everything\n",
    "\n",
    "Add the magnetic field and the Poynting vector to a 3D simulation!"
   ]
  },
  {
   "cell_type": "code",
   "execution_count": null,
   "metadata": {},
   "outputs": [],
   "source": [
    "### Replace with your code."
   ]
  },
  {
   "cell_type": "markdown",
   "metadata": {},
   "source": [
    "## A note on coordinates and formulae\n",
    "\n",
    "The simulation above uses spherical coordinates to match equations in textbooks.  However, this is not always convenient for simulating problems on a grid.  For instance, the equations for the fields assume the dipoles are at the origin.  If there are two dipoles at different locations, \"$\\hat{e}_r$\" and \"$\\hat{e}_\\theta$\" in the formulas are ***not*** the same vector for both dipoles.\n",
    "\n",
    "It might be easier to work in Cartesian coordinates.  The following relations may be useful if you attempt the challenge problems. If the location of the dipole is $(x_0, y_0, z_0)$, then the textbook formulae translate as follows.\n",
    "\n",
    "\\begin{align*}\n",
    "r &= \\sqrt{(x-x_0)^2 + (y-y_0)^2 + (z-z_0)^2} \\\\\n",
    "\\cos \\theta & = \\dfrac{z-z_0}{r} \\\\\n",
    "\\sin \\theta &= \\dfrac{\\sqrt{(x-x_0)^2 + (y-y_0)^2}}{r} \\\\\n",
    "\\cos \\phi &= \\dfrac{x-x_0}{\\sqrt{(x-x_0)^2+(y-y_0)^2}} \\\\\n",
    "\\sin \\phi &= \\dfrac{y-y_0}{\\sqrt{(x-x_0)^2+(y-y_0)^2}} \\\\\n",
    "\\hat{e}_r &= \\hat{e}_x \\, \\sin \\theta \\cos \\phi + \\hat{e}_y \\, \\sin \\theta \\sin \\phi + \\hat{e}_z \\, \\cos \\theta \\\\\n",
    "\\hat{e}_\\theta &= \\hat{e}_x \\, \\cos \\theta \\cos \\phi + \\hat{e}_y \\, \\cos \\theta \\sin \\phi - \\hat{e}_z \\sin \\theta \\\\\n",
    "\\hat{e}_\\phi &= -\\hat{e}_x \\, \\sin \\phi + \\hat{e}_y \\, \\cos \\phi\n",
    "\\end{align*}"
   ]
  }
 ],
 "metadata": {
  "kernelspec": {
   "display_name": "Python 3",
   "language": "python",
   "name": "python3"
  },
  "language_info": {
   "codemirror_mode": {
    "name": "ipython",
    "version": 3
   },
   "file_extension": ".py",
   "mimetype": "text/x-python",
   "name": "python",
   "nbconvert_exporter": "python",
   "pygments_lexer": "ipython3",
   "version": "3.8.5"
  }
 },
 "nbformat": 4,
 "nbformat_minor": 5
}
